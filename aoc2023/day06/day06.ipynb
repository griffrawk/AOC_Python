{
 "cells": [
  {
   "cell_type": "markdown",
   "metadata": {},
   "source": [
    "### Day 6 O(1) equation\n",
    "\n",
    "Joost's code has this little gem to calculate the number of ways to win in O(1) time. Intrigued! I thought there would be something to do it and sure enough...\n",
    "\n",
    "What I don't know is what it is or where it comes from, however I can code it.\n",
    "\n",
    "```kotlin\n",
    "private fun alt1(time: Long, distance: Long): Long {\n",
    "    val x1 = sqrt((time * time - 4 * distance).toDouble())\n",
    "    val y1 = ((time - x1) / 2).toLong()\n",
    "    val y2 = ceil(((x1 + time) / 2)).toLong()\n",
    "    return y2 - y1 - 1\n",
    "}\n",
    "```\n",
    "\n",
    "Ah, turns out he got it from Wolfram Alpha, so probably as in the dark as me!\n"
   ]
  },
  {
   "cell_type": "code",
   "execution_count": 1,
   "metadata": {},
   "outputs": [],
   "source": [
    "import math\n",
    "time = 7\n",
    "distance = 9\n",
    "\n",
    "x1 = math.sqrt(time * time - 4 * distance)\n",
    "y1 = math.floor((time - x1) /2)\n",
    "y2 = math.ceil((x1 + time) / 2)\n",
    "ans = y2 - y1 - 1\n",
    "assert ans == 4\n"
   ]
  },
  {
   "cell_type": "markdown",
   "metadata": {},
   "source": [
    "Quick sanity check of the ceil & floor functions"
   ]
  },
  {
   "cell_type": "code",
   "execution_count": 2,
   "metadata": {},
   "outputs": [
    {
     "name": "stdout",
     "output_type": "stream",
     "text": [
      "3\n",
      "3\n",
      "4\n",
      "-3\n",
      "-4\n",
      "-3\n"
     ]
    }
   ],
   "source": [
    "# Note int() truncates, floor() rounds down\n",
    "print(int(3.14159))\n",
    "print(math.floor(3.14159))\n",
    "print(math.ceil(3.14159))\n",
    "print(int(-3.14159))\n",
    "print(math.floor(-3.14159))\n",
    "print(math.ceil(-3.14159))\n"
   ]
  },
  {
   "cell_type": "markdown",
   "metadata": {},
   "source": [
    "Reddit suggests it's a quadratic. Solved using the usual formula for two values of x. The difference of which is the number of ways to win!\n",
    "\n",
    "zero equals minus b plus or minus the square root of x squared minus 4 times a times c al divided by 2 times a\n"
   ]
  }
 ],
 "metadata": {
  "kernelspec": {
   "display_name": "venv_3.12_AOC",
   "language": "python",
   "name": "python3"
  },
  "language_info": {
   "codemirror_mode": {
    "name": "ipython",
    "version": 3
   },
   "file_extension": ".py",
   "mimetype": "text/x-python",
   "name": "python",
   "nbconvert_exporter": "python",
   "pygments_lexer": "ipython3",
   "version": "3.12.0"
  }
 },
 "nbformat": 4,
 "nbformat_minor": 2
}
